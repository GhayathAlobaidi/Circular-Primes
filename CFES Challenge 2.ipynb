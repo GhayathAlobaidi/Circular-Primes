{
 "cells": [
  {
   "cell_type": "code",
   "execution_count": 16,
   "metadata": {},
   "outputs": [
    {
     "name": "stdout",
     "output_type": "stream",
     "text": [
      "\n",
      "Please enter a number that is more than 1: 1\n",
      "\n",
      "You entered a number equal to or under 1.\n",
      "Please enter a number that is more than 1: -1\n",
      "\n",
      "You entered a number equal to or under 1.\n",
      "Please enter a number that is more than 1: 1000000\n",
      "\n",
      "There are 78498 Prime Numbers under 1000000\n",
      "There are 55 Circular Primes under 1000000\n",
      "The Circular Primes under 1000000 are [2, 3, 5, 7, 11, 13, 17, 31, 37, 71, 73, 79, 97, 113, 131, 197, 199, 311, 337, 373, 719, 733, 919, 971, 991, 1193, 1931, 3119, 3779, 7793, 7937, 9311, 9377, 11939, 19391, 19937, 37199, 39119, 71993, 91193, 93719, 93911, 99371, 193939, 199933, 319993, 331999, 391939, 393919, 919393, 933199, 939193, 939391, 993319, 999331]\n",
      "Total time: 2.76830\n"
     ]
    }
   ],
   "source": [
    "import time\n",
    "\n",
    "# Ask user to provide a number under which script will search for primes/circular primes\n",
    "given_number = (int(input('\\nPlease enter a number that is more than 1: ')))\n",
    "\n",
    "# Throw an error if user inputs a number less than 1\n",
    "while given_number <= 1:\n",
    "    given_number = (int(input('\\nYou entered a number equal to or under 1.' \\\n",
    "                               '\\nPlease enter a number that is more than 1: ')))\n",
    "\n",
    "start_time = time.time()                        # Record start time of script\n",
    "primes_list = []                                # Initiate list of prime numbers\n",
    "circular_primes = []                            # Initiate list of circular primes\n",
    "\n",
    "def check_if_prime(number):                     # Function to check whether a number is prime or not\n",
    "    if number == 2:                             # If user inputs 2, return True\n",
    "        return True\n",
    "    if not number & 1:                          # Use bitwise to check whether a number is divisible by 2\n",
    "        return False                            # If a number is divisible by 2, return False\n",
    "    for x in range(3, int(number ** 0.5) + 1, 2):    # For all odd numbers, range starts with 3 and only needs  \n",
    "        if number % x == 0:                          # to go up the squareroot of number\n",
    "            return False                        # If number is divisible by 2, return False, otherwise True\n",
    "    return True\n",
    "\n",
    "def rotate_number(y, number):                   # Function to rotate number and verify if rotated number is prime\n",
    "    c = 0\n",
    "    while number != c:\n",
    "        a = y[1:]                               # Strip the first index of list\n",
    "        b = y[0]                                # Create a new list holding only the first index\n",
    "        a.append(b)                             # Move the stripped index to the back of the list\n",
    "        rotated_string = ''.join(a)             # Join to create a new string version of a rotated number\n",
    "        c = int(rotated_string)                 # Convert rotated_string to an integer\n",
    "        if check_if_prime(c):                   # Check whether rotated number is prime or not\n",
    "            pass                                # If prime, return True\n",
    "        else:\n",
    "            return \"False\"                      # If not prime, return False\n",
    "        y = list(str(rotated_string))\n",
    "    return \"True\"\n",
    "\n",
    "for number in range(2, given_number+1):         # Enter loop to study every number from 2 up to given_number\n",
    "    if check_if_prime(number):                  # Call on method to check whether number is prime or not\n",
    "        primes_list.append(number)              # If a number is prime, add to prime_list\n",
    "        prime_to_string = list(str(number))     # Save a string version of the prime number in a list\n",
    "        \n",
    "        # Send the prime number and its string version to method rotate_number\n",
    "        # If the method returns True, add number to circular_primes list\n",
    "        if rotate_number(prime_to_string, number) == 'True':                                        \n",
    "            circular_primes.append(number)  \n",
    "        else:                                   # If rotate_method returns False, continue to test next number\n",
    "            continue  \n",
    "\n",
    "end_time = time.time()                          # Record end time of script\n",
    "\n",
    "# Print Results\n",
    "print(f'\\nThere are {len(primes_list)} Prime Numbers under {given_number}')\n",
    "print(f'There are {len(circular_primes)} Circular Primes under {given_number}')\n",
    "print(f'The Circular Primes under {given_number} are {circular_primes}')        \n",
    "print('Total time: %0.5f'%(end_time - start_time))"
   ]
  }
 ],
 "metadata": {
  "kernelspec": {
   "display_name": "Python 3",
   "language": "python",
   "name": "python3"
  },
  "language_info": {
   "codemirror_mode": {
    "name": "ipython",
    "version": 3
   },
   "file_extension": ".py",
   "mimetype": "text/x-python",
   "name": "python",
   "nbconvert_exporter": "python",
   "pygments_lexer": "ipython3",
   "version": "3.8.3"
  }
 },
 "nbformat": 4,
 "nbformat_minor": 4
}
